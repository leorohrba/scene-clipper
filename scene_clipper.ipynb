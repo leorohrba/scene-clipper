import os
import subprocess
from IPython.display import HTML, display
from faster_whisper import WhisperModel
import yt_dlp
from google.colab import files

##############################
### CONFIGURATION SETTINGS ###
##############################

# Scene configuration
SCENE_QUERY = "gone with the wind frankly my dear i don't give a damn"  # YouTube search query
TARGET_PHRASE = "I don't give a damn"                      # Phrase to search for
CLIP_DURATION = 90                                  # Duration of final clip (seconds)
BUFFER_BEFORE_PHRASE = 45                           # Seconds before phrase to include

# Video processing
OUTPUT_FILENAME = "scene_clip.mp4"             # Final output filename
SUBTITLE_STYLE = "Fontsize=24,PrimaryColour=&HFFFFFF&"  # Subtitle appearance

# Whisper model
WHISPER_MODEL_SIZE = "small"                        # small/medium/large
WHISPER_COMPUTE_TYPE = "float16" if check_cuda() else "int8"  # Auto-detected

##############################
### FUNCTION DEFINITIONS ###
##############################

def sanitize_filename(title):
    """Remove invalid characters from filenames"""
    return "".join(c for c in title if c.isalnum() or c in (' ', '.', '_')).rstrip()

def check_cuda():
    """Check if CUDA is available and compatible"""
    try:
        subprocess.check_output(['nvidia-smi'])
        return True
    except:
        return False

def download_video():
    """Download the most popular video using yt-dlp"""
    try:
        print(f"🔍 Searching YouTube for: '{SCENE_QUERY}'")

        ydl_opts = {
            'quiet': True,
            'default_search': 'ytsearch1',
            'format': 'best',
            'outtmpl': 'downloaded_video.mp4',
            'merge_output_format': 'mp4',
            'writesubtitles': True,
            'subtitleslangs': ['en.*'],
            'subtitlesformat': 'srt',
            'no_warnings': True,
            'ignoreerrors': True,
            'retries': 3,
        }

        with yt_dlp.YoutubeDL(ydl_opts) as ydl:
            info = ydl.extract_info(SCENE_QUERY, download=True)
            downloaded_file = ydl.prepare_filename(info)
            
            if not os.path.exists(downloaded_file):
                downloaded_file = 'downloaded_video.mp4'

        # Check for downloaded subtitles
        base_name = os.path.splitext(downloaded_file)[0]
        for ext in ['.en.srt', '.en.vtt']:
            subtitle_file = base_name + ext
            if os.path.exists(subtitle_file):
                return downloaded_file, subtitle_file

        return downloaded_file, None

    except Exception as e:
        print(f"❌ Error downloading video: {str(e)}")
        return None, None

def find_famous_moment(video_path):
    """Use Whisper to locate the exact timestamp of the target phrase"""
    try:
        print(f"🔎 Analyzing video for: '{TARGET_PHRASE}'...")
        
        device = "cuda" if check_cuda() else "cpu"
        print(f"⚙️ Using {device.upper()} with compute type {WHISPER_COMPUTE_TYPE}")
        
        model = WhisperModel(WHISPER_MODEL_SIZE, device=device, compute_type=WHISPER_COMPUTE_TYPE)
        segments, _ = model.transcribe(video_path, beam_size=5)
        
        for segment in segments:
            if TARGET_PHRASE.lower() in segment.text.lower():
                print(f"🎯 Found at {segment.start:.1f}s")
                return segment.start
        
        raise Exception("Target phrase not found in video")
    except Exception as e:
        print(f"❌ Error finding famous moment: {str(e)}")
        return None

def extract_clip(video_path, center_time=None):
    """Extract a clip centered around the specified time"""
    try:
        # Get video duration
        cmd = ['ffprobe', '-v', 'error', '-show_entries', 
               'format=duration', '-of', 'default=noprint_wrappers=1:nokey=1', video_path]
        duration = float(subprocess.check_output(cmd).decode('utf-8').strip())
        
        # Calculate start time
        if center_time is None:
            start_time = 0  # Default to beginning
        else:
            start_time = max(0, center_time - BUFFER_BEFORE_PHRASE)
            if start_time + CLIP_DURATION > duration:
                start_time = max(0, duration - CLIP_DURATION)
        
        print(f"✂️ Extracting {CLIP_DURATION}s clip starting at {start_time:.1f}s...")
        
        cmd = [
            'ffmpeg',
            '-ss', str(start_time),
            '-i', video_path,
            '-t', str(CLIP_DURATION),
            '-c', 'copy',
            '-avoid_negative_ts', '1',
            '-y',
            'clipped_video.mp4'
        ]
        
        subprocess.run(cmd, check=True, stdout=subprocess.PIPE, stderr=subprocess.PIPE)
        return 'clipped_video.mp4', start_time
    except subprocess.CalledProcessError as e:
        print(f"❌ FFmpeg error: {e.stderr.decode('utf-8')}")
        return None, None
    except Exception as e:
        print(f"❌ Error extracting clip: {str(e)}")
        return None, None

def generate_subtitles(video_path, clip_start=0):
    """Generate subtitles with perfect phrase timing"""
    try:
        print("🔊 Generating optimized subtitles...")
        
        device = "cuda" if check_cuda() else "cpu"
        model = WhisperModel(WHISPER_MODEL_SIZE, device=device, 
                           compute_type=WHISPER_COMPUTE_TYPE)
        
        # Use word-level timestamps for better accuracy
        segments, _ = model.transcribe(video_path, beam_size=5, word_timestamps=True)
        
        subtitle_path = 'generated_subtitles.vtt'
        with open(subtitle_path, "w", encoding='utf-8') as f:
            f.write("WEBVTT\n\n")  # WebVTT header
            
            for i, seg in enumerate(segments, start=1):
                start = max(0, seg.start - clip_start)
                end = max(0, seg.end - clip_start)
                
                # Special handling for target phrase
                if TARGET_PHRASE.lower() in seg.text.lower():
                    start = max(0, start - 0.5)  # Nudge earlier
                    end = max(0, end - 0.3)
                
                if 0 <= start < CLIP_DURATION:
                    f.write(f"{i}\n{start:.3f} --> {end:.3f}\n{seg.text.strip()}\n\n")
        
        print("✓ Subtitles optimized for phrase timing")
        return subtitle_path
        
    except Exception as e:
        print(f"❌ Subtitle generation failed: {str(e)}")
        return None

def burn_subtitles(video_path, subtitle_path):
    """Burn subtitles into the video"""
    try:
        print("🔥 Burning subtitles into video...")
        cmd = [
            'ffmpeg',
            '-i', video_path,
            '-vf', f"subtitles='{subtitle_path}':force_style='{SUBTITLE_STYLE}'",
            '-c:a', 'copy',
            '-y',
            OUTPUT_FILENAME
        ]
        subprocess.run(cmd, check=True, stdout=subprocess.PIPE, stderr=subprocess.PIPE)
        return OUTPUT_FILENAME
    except subprocess.CalledProcessError as e:
        print(f"❌ FFmpeg error: {e.stderr.decode('utf-8')}")
        return None
    except Exception as e:
        print(f"❌ Error burning subtitles: {str(e)}")
        return None

def display_and_download(video_path):
    """Display and automatically download the video in Colab"""
    try:
        print("🎥 Displaying final video:")
        display(HTML(f'<video width="720" controls><source src="{video_path}"></video>'))
        
        print("⬇️ Downloading video automatically...")
        files.download(video_path)
    except Exception as e:
        print(f"❌ Error displaying/downloading video: {str(e)}")

def main():
    # Install required packages
    print("⚙️ Installing required packages...")
    !pip install -q yt-dlp faster-whisper
    !apt install -y ffmpeg
    
    # Step 1: Download video
    video_file, subtitle_file = download_video()
    if not video_file:
        print("💀 Failed to download video. Exiting...")
        return
    
    # Step 2: Locate famous moment
    famous_time = find_famous_moment(video_file)
    
    # Step 3: Extract clip
    clipped_file, clip_start = extract_clip(video_file, famous_time)
    if not clipped_file:
        print("⚠️ Failed to extract clip. Using full video.")
        clipped_file = video_file
        clip_start = 0
    
    # Step 4: Generate subtitles if needed
    if not subtitle_file:
        print("ℹ️ No subtitles found, generating with Whisper...")
        subtitle_file = generate_subtitles(clipped_file, clip_start)
    
    # Step 5: Burn subtitles
    if subtitle_file:
        final_output = burn_subtitles(clipped_file, subtitle_file)
        if not final_output:
            print("⚠️ Using video without burned subtitles")
            final_output = clipped_file
    else:
        final_output = clipped_file
        print("⚠️ Proceeding without subtitles")
    
    # Step 6: Display and download
    display_and_download(final_output)
    print(f"✅ Process completed! Downloaded: {final_output}")

if __name__ == "__main__":
    main()
